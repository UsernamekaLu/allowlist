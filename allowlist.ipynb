{
 "cells": [
  {
   "cell_type": "code",
   "execution_count": 17,
   "id": "2a3a9b50-5448-4d02-a317-3bc1bce762a1",
   "metadata": {
    "tags": []
   },
   "outputs": [],
   "source": [
    "def findSite(putanja, sajt):\n",
    "    try:\n",
    "        with open(putanja, 'r') as file:\n",
    "            for line in file:\n",
    "                line = line.strip()\n",
    "                if sajt == line:\n",
    "                    return True\n",
    "        return False\n",
    "    except FileNotFoundError:\n",
    "        print(\"Fajl nije pronanđen.\")\n",
    "        return False\n",
    "    except Exception as e:\n",
    "        print(\"Desila se greska:\", e)\n",
    "        return False"
   ]
  },
  {
   "cell_type": "code",
   "execution_count": 19,
   "id": "62a12a2e-596f-4cdf-be55-e6adcdf659c8",
   "metadata": {
    "tags": []
   },
   "outputs": [
    {
     "name": "stdout",
     "output_type": "stream",
     "text": [
      "'facebook.com' se nalazi u listi bezbjednih sajtova.\n"
     ]
    }
   ],
   "source": [
    "putanja = \"sites.txt\"\n",
    "sajt = \"facebook.com\"\n",
    "if findSite(putanja, sajt):\n",
    "    print(f\"'{sajt}' se nalazi u listi bezbjednih sajtova.\")\n",
    "else:\n",
    "    print(f\"'{sajt}' se ne nalazi u listi bezbjednih sajtova.\")\n"
   ]
  },
  {
   "cell_type": "code",
   "execution_count": null,
   "id": "7f979a90-4f13-46bf-9485-c8e66965f99e",
   "metadata": {},
   "outputs": [],
   "source": []
  }
 ],
 "metadata": {
  "kernelspec": {
   "display_name": "Python 3 (ipykernel)",
   "language": "python",
   "name": "python3"
  },
  "language_info": {
   "codemirror_mode": {
    "name": "ipython",
    "version": 3
   },
   "file_extension": ".py",
   "mimetype": "text/x-python",
   "name": "python",
   "nbconvert_exporter": "python",
   "pygments_lexer": "ipython3",
   "version": "3.11.5"
  }
 },
 "nbformat": 4,
 "nbformat_minor": 5
}
